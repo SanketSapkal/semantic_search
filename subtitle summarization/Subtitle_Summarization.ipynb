{
  "nbformat": 4,
  "nbformat_minor": 0,
  "metadata": {
    "colab": {
      "provenance": []
    },
    "kernelspec": {
      "name": "python3",
      "display_name": "Python 3"
    },
    "language_info": {
      "name": "python"
    }
  },
  "cells": [
    {
      "cell_type": "code",
      "execution_count": null,
      "metadata": {
        "colab": {
          "base_uri": "https://localhost:8080/"
        },
        "id": "2JBYq3yBz7z_",
        "outputId": "d34dfb49-0bf9-4c90-bc4b-5ddeab52f815"
      },
      "outputs": [
        {
          "output_type": "stream",
          "name": "stderr",
          "text": [
            "[nltk_data] Downloading package punkt to /root/nltk_data...\n",
            "[nltk_data]   Package punkt is already up-to-date!\n"
          ]
        },
        {
          "output_type": "stream",
          "name": "stdout",
          "text": [
            "Drive already mounted at drive; to attempt to forcibly remount, call drive.mount(\"drive\", force_remount=True).\n"
          ]
        }
      ],
      "source": [
        "!pip install transformers --quiet\n",
        "!pip install flax --quiet\n",
        "!pip install sentencepiece --quiet\n",
        "\n",
        "\n",
        "from transformers import AutoTokenizer, pipeline\n",
        "import nltk\n",
        "import pandas\n",
        "\n",
        "nltk.download('punkt')\n",
        "\n",
        "from google.colab import drive\n",
        "drive.mount('drive')"
      ]
    },
    {
      "cell_type": "code",
      "source": [
        "df = pandas.read_csv('Summary_Subtitle_30_100_78.csv')\n",
        "data = df[\"Subtitles\"]\n",
        "# df[\"Summary_Subtitle_30_100\"] = \"\""
      ],
      "metadata": {
        "id": "VGZmNP12GGr5"
      },
      "execution_count": null,
      "outputs": []
    },
    {
      "cell_type": "code",
      "source": [
        "model_name = \"facebook/bart-large-cnn\"\n",
        "tokenizer = AutoTokenizer.from_pretrained(model_name)"
      ],
      "metadata": {
        "id": "WnFe4z6YFhJu"
      },
      "execution_count": null,
      "outputs": []
    },
    {
      "cell_type": "code",
      "source": [
        "# # subtitle_file = open(\"subs.txt\")\n",
        "# # lines = subtitle_file.readlines()\n",
        "# count = 0\n",
        "\n",
        "# subs = []\n",
        "\n",
        "# # Strips the newline character\n",
        "# for line in lines:\n",
        "#     count += 1\n",
        "#     line = line.strip()\n",
        "#     if len(line) > 0:\n",
        "#       subs.append(line)\n",
        "#       # print(\"Line{}: {}\".format(count, line.strip()))\n",
        "  \n",
        "# data = \" \".join(subs)"
      ],
      "metadata": {
        "id": "zSMgoisz0-Km"
      },
      "execution_count": null,
      "outputs": []
    },
    {
      "cell_type": "code",
      "source": [
        "def get_chunks(_data):\n",
        "  global model_name, tokenizer\n",
        "\n",
        "  sentences = nltk.tokenize.sent_tokenize(_data)\n",
        "\n",
        "  # initialize\n",
        "  length = 0\n",
        "  chunk = \"\"\n",
        "  chunks = []\n",
        "  count = -1\n",
        "  for sentence in sentences:\n",
        "    if len(sentence) > 1024:\n",
        "      sentence = sentence[:1024]\n",
        "\n",
        "    count += 1\n",
        "    combined_length = len(tokenizer.tokenize(sentence)) + length # add the no. of sentence tokens to the length counter\n",
        "\n",
        "    if combined_length  <= tokenizer.max_len_single_sentence: # if it doesn't exceed\n",
        "      chunk += sentence + \" \" # add the sentence to the chunk\n",
        "      length = combined_length # update the length counter\n",
        "\n",
        "      # if it is the last sentence\n",
        "      if count == len(sentences) - 1:\n",
        "        chunks.append(chunk) # save the chunk\n",
        "      \n",
        "    else: \n",
        "      chunks.append(chunk) # save the chunk\n",
        "      # reset\n",
        "      length = 0 \n",
        "      chunk = \"\"\n",
        "\n",
        "      # take care of the overflow sentence\n",
        "      chunk += sentence + \" \"\n",
        "      length = len(tokenizer(sentence))\n",
        "  \n",
        "  return chunks"
      ],
      "metadata": {
        "id": "qLfEOM45FXtm"
      },
      "execution_count": null,
      "outputs": []
    },
    {
      "cell_type": "code",
      "source": [
        "summarizer = pipeline(\"summarization\", model=model_name)\n",
        "\n",
        "for i in range(len(data)):\n",
        "  try:\n",
        "    if df[\"Summary_Subtitle_30_100\"][i] is not numpy.nan:\n",
        "      continue\n",
        "\n",
        "    chunks = get_chunks(data[i])\n",
        "    summary_arr = []\n",
        "\n",
        "    for j in range(len(chunks)):\n",
        "      try:\n",
        "        s = summarizer(chunks[j], max_length=100, min_length=30, do_sample=False)\n",
        "        summary_arr.append(s[0]['summary_text'])\n",
        "      except Exception as e:\n",
        "        print(\"error_chunks - \", i + 1, e)\n",
        "    \n",
        "    summary = \"\".join(summary_arr)\n",
        "\n",
        "    df[\"Summary_Subtitle_30_100\"][i] = summary\n",
        "\n",
        "    path = \"\"\n",
        "    file_name = path + \"Summary_Subtitle_30_100_1_\" + str(i) + \".csv\"\n",
        "    df.to_csv(file_name, index=False)\n",
        "    # if i % 5 == 0 and i > 0:\n",
        "    #   path = \"/drive/My Drive/NLP_Data/\"\n",
        "    #   file_name = path + \"Summary_Subtitle_30_100_\" + str(i) + \".csv\"\n",
        "    #   df.to_csv(file_name, index=False)\n",
        "    #   break\n",
        "\n",
        "    print(\"done - \", i + 1)\n",
        "  except Exception as e:\n",
        "    print(\"error - \", i + 1, e)"
      ],
      "metadata": {
        "colab": {
          "base_uri": "https://localhost:8080/"
        },
        "id": "NTjJHilt0ELK",
        "outputId": "25aa3d94-d294-4564-cdad-44a035967494"
      },
      "execution_count": null,
      "outputs": [
        {
          "output_type": "stream",
          "name": "stderr",
          "text": [
            "Token indices sequence length is longer than the specified maximum sequence length for this model (1039 > 1024). Running this sequence through the model will result in indexing errors\n"
          ]
        },
        {
          "output_type": "stream",
          "name": "stdout",
          "text": [
            "error_chunks -  10 index out of range in self\n",
            "error_chunks -  10 index out of range in self\n",
            "error_chunks -  10 index out of range in self\n",
            "error_chunks -  10 index out of range in self\n"
          ]
        },
        {
          "output_type": "stream",
          "name": "stderr",
          "text": [
            "/usr/local/lib/python3.7/dist-packages/ipykernel_launcher.py:20: SettingWithCopyWarning: \n",
            "A value is trying to be set on a copy of a slice from a DataFrame\n",
            "\n",
            "See the caveats in the documentation: https://pandas.pydata.org/pandas-docs/stable/user_guide/indexing.html#returning-a-view-versus-a-copy\n"
          ]
        },
        {
          "output_type": "stream",
          "name": "stdout",
          "text": [
            "done -  10\n",
            "error_chunks -  11 index out of range in self\n",
            "error_chunks -  11 index out of range in self\n",
            "error_chunks -  11 index out of range in self\n",
            "error_chunks -  11 index out of range in self\n",
            "error_chunks -  11 index out of range in self\n",
            "error_chunks -  11 index out of range in self\n",
            "error_chunks -  11 index out of range in self\n",
            "error_chunks -  11 index out of range in self\n",
            "error_chunks -  11 index out of range in self\n",
            "error_chunks -  11 index out of range in self\n",
            "done -  11\n",
            "error_chunks -  12 index out of range in self\n",
            "error_chunks -  12 index out of range in self\n",
            "error_chunks -  12 index out of range in self\n",
            "error_chunks -  12 index out of range in self\n",
            "error_chunks -  12 index out of range in self\n",
            "error_chunks -  12 index out of range in self\n"
          ]
        },
        {
          "output_type": "stream",
          "name": "stderr",
          "text": [
            "Your max_length is set to 100, but you input_length is only 51. You might consider decreasing max_length manually, e.g. summarizer('...', max_length=25)\n"
          ]
        },
        {
          "output_type": "stream",
          "name": "stdout",
          "text": [
            "done -  12\n",
            "error_chunks -  26 index out of range in self\n",
            "error_chunks -  26 index out of range in self\n",
            "error_chunks -  26 index out of range in self\n",
            "error_chunks -  26 index out of range in self\n",
            "error_chunks -  26 index out of range in self\n",
            "error_chunks -  26 index out of range in self\n",
            "error_chunks -  26 index out of range in self\n",
            "error_chunks -  26 index out of range in self\n",
            "error_chunks -  26 index out of range in self\n",
            "error_chunks -  26 index out of range in self\n",
            "error_chunks -  26 index out of range in self\n",
            "done -  26\n",
            "error_chunks -  39 index out of range in self\n",
            "error_chunks -  39 index out of range in self\n",
            "error_chunks -  39 index out of range in self\n",
            "error_chunks -  39 index out of range in self\n",
            "error_chunks -  39 index out of range in self\n",
            "error_chunks -  39 index out of range in self\n",
            "error_chunks -  39 index out of range in self\n",
            "error_chunks -  39 index out of range in self\n",
            "error_chunks -  39 index out of range in self\n",
            "error_chunks -  39 index out of range in self\n",
            "error_chunks -  39 index out of range in self\n",
            "error_chunks -  39 index out of range in self\n",
            "error_chunks -  39 index out of range in self\n",
            "error_chunks -  39 index out of range in self\n",
            "done -  39\n",
            "error_chunks -  42 index out of range in self\n",
            "error_chunks -  42 index out of range in self\n",
            "error_chunks -  42 index out of range in self\n"
          ]
        },
        {
          "output_type": "stream",
          "name": "stderr",
          "text": [
            "Your max_length is set to 100, but you input_length is only 87. You might consider decreasing max_length manually, e.g. summarizer('...', max_length=43)\n"
          ]
        },
        {
          "output_type": "stream",
          "name": "stdout",
          "text": [
            "error_chunks -  42 index out of range in self\n",
            "done -  42\n",
            "error_chunks -  65 index out of range in self\n",
            "error_chunks -  65 index out of range in self\n",
            "error_chunks -  65 index out of range in self\n",
            "error_chunks -  65 index out of range in self\n",
            "error_chunks -  65 index out of range in self\n",
            "error_chunks -  65 index out of range in self\n"
          ]
        },
        {
          "output_type": "stream",
          "name": "stderr",
          "text": [
            "Your max_length is set to 100, but you input_length is only 83. You might consider decreasing max_length manually, e.g. summarizer('...', max_length=41)\n"
          ]
        },
        {
          "output_type": "stream",
          "name": "stdout",
          "text": [
            "done -  65\n",
            "error_chunks -  74 index out of range in self\n",
            "error_chunks -  74 index out of range in self\n",
            "error_chunks -  74 index out of range in self\n",
            "error_chunks -  74 index out of range in self\n",
            "error_chunks -  74 index out of range in self\n",
            "error_chunks -  74 index out of range in self\n",
            "done -  74\n"
          ]
        }
      ]
    },
    {
      "cell_type": "code",
      "source": [],
      "metadata": {
        "id": "MpABs9zB0jI_"
      },
      "execution_count": null,
      "outputs": []
    },
    {
      "cell_type": "code",
      "source": [
        "summary[0][0]['summary_text']"
      ],
      "metadata": {
        "id": "nzlOapOr1SpC"
      },
      "execution_count": null,
      "outputs": []
    },
    {
      "cell_type": "code",
      "source": [
        "chunks[0]"
      ],
      "metadata": {
        "id": "2zw99AQ91Tlf"
      },
      "execution_count": null,
      "outputs": []
    },
    {
      "cell_type": "code",
      "source": [
        "op = []\n",
        "for i in range(len(summary)):\n",
        "  op.append(summary[i][0]['summary_text'])"
      ],
      "metadata": {
        "id": "yh5zmVyqAOOf"
      },
      "execution_count": null,
      "outputs": []
    },
    {
      "cell_type": "code",
      "source": [
        "k = \"\".join(op)\n",
        "len(k)"
      ],
      "metadata": {
        "id": "aTkcbBP3AVSz"
      },
      "execution_count": null,
      "outputs": []
    },
    {
      "cell_type": "code",
      "source": [
        "data[0]"
      ],
      "metadata": {
        "id": "UE8duHeAD9Iv"
      },
      "execution_count": null,
      "outputs": []
    },
    {
      "cell_type": "code",
      "source": [
        "df.to_csv(\"csd.csv\", index=False)"
      ],
      "metadata": {
        "id": "LOBuWEHqFMIt"
      },
      "execution_count": null,
      "outputs": []
    },
    {
      "cell_type": "code",
      "source": [
        "df.head()"
      ],
      "metadata": {
        "colab": {
          "base_uri": "https://localhost:8080/",
          "height": 669
        },
        "id": "LjM-AwasKQN3",
        "outputId": "48d53fc7-c51f-4425-be60-878d398f844d"
      },
      "execution_count": null,
      "outputs": [
        {
          "output_type": "execute_result",
          "data": {
            "text/plain": [
              "   Unnamed: 0  Release Year                                  Title  \\\n",
              "0           0          2004  Eternal Sunshine of the Spotless Mind   \n",
              "1           1          2003        Charlie's Angels: Full Throttle   \n",
              "2           2          2017                                   Coco   \n",
              "3           3          2013                             Black Rock   \n",
              "4           4          2005                          Batman Begins   \n",
              "\n",
              "  Origin/Ethnicity                                               Plot  \\\n",
              "0         American  Shy, soft-spoken Joel Barish and unrestrained ...   \n",
              "1         American  After rescuing U.S. Marshal Ray Carter (Robert...   \n",
              "2         American  In Santa Cecilia, Mexico, Imelda Rivera is the...   \n",
              "3         American  Sarah (Kate Bosworth) invites her childhood fr...   \n",
              "4         American  As a child, Bruce Wayne falls down into a dry ...   \n",
              "\n",
              "   imdbRating     imdbID                                          Subtitles  \\\n",
              "0         8.3  tt0338013  Montauk train on track \"B.\" Random thoughts fo...   \n",
              "1         4.9  tt0305357  Northern Mongolia Get off the babysitter. Dadd...   \n",
              "2         8.4  tt2380307   explosiveskull  GoldenBeard Sometimes, I thin...   \n",
              "3         4.8  tt1930294  Oh, my God. You, like, threw up back here with...   \n",
              "4         8.2  tt0372784  Rachel, let me see. - Can I see? - Finders kee...   \n",
              "\n",
              "                             Summary_Subtitle_30_100  \n",
              "0  Random thoughts for Valentine's Day, 2004. Tod...  \n",
              "1  Alex Munday, U.S. Marshal Marshal Ray Carter, ...  \n",
              "2  Julio's great-great-grandmother, Mama Imelda, ...  \n",
              "3  \"I have so many stories. There's only so long ...  \n",
              "4  Bruce Wayne wakes up to find himself in the mi...  "
            ],
            "text/html": [
              "\n",
              "  <div id=\"df-998c5235-609e-4f55-98fb-5a54c6903c7d\">\n",
              "    <div class=\"colab-df-container\">\n",
              "      <div>\n",
              "<style scoped>\n",
              "    .dataframe tbody tr th:only-of-type {\n",
              "        vertical-align: middle;\n",
              "    }\n",
              "\n",
              "    .dataframe tbody tr th {\n",
              "        vertical-align: top;\n",
              "    }\n",
              "\n",
              "    .dataframe thead th {\n",
              "        text-align: right;\n",
              "    }\n",
              "</style>\n",
              "<table border=\"1\" class=\"dataframe\">\n",
              "  <thead>\n",
              "    <tr style=\"text-align: right;\">\n",
              "      <th></th>\n",
              "      <th>Unnamed: 0</th>\n",
              "      <th>Release Year</th>\n",
              "      <th>Title</th>\n",
              "      <th>Origin/Ethnicity</th>\n",
              "      <th>Plot</th>\n",
              "      <th>imdbRating</th>\n",
              "      <th>imdbID</th>\n",
              "      <th>Subtitles</th>\n",
              "      <th>Summary_Subtitle_30_100</th>\n",
              "    </tr>\n",
              "  </thead>\n",
              "  <tbody>\n",
              "    <tr>\n",
              "      <th>0</th>\n",
              "      <td>0</td>\n",
              "      <td>2004</td>\n",
              "      <td>Eternal Sunshine of the Spotless Mind</td>\n",
              "      <td>American</td>\n",
              "      <td>Shy, soft-spoken Joel Barish and unrestrained ...</td>\n",
              "      <td>8.3</td>\n",
              "      <td>tt0338013</td>\n",
              "      <td>Montauk train on track \"B.\" Random thoughts fo...</td>\n",
              "      <td>Random thoughts for Valentine's Day, 2004. Tod...</td>\n",
              "    </tr>\n",
              "    <tr>\n",
              "      <th>1</th>\n",
              "      <td>1</td>\n",
              "      <td>2003</td>\n",
              "      <td>Charlie's Angels: Full Throttle</td>\n",
              "      <td>American</td>\n",
              "      <td>After rescuing U.S. Marshal Ray Carter (Robert...</td>\n",
              "      <td>4.9</td>\n",
              "      <td>tt0305357</td>\n",
              "      <td>Northern Mongolia Get off the babysitter. Dadd...</td>\n",
              "      <td>Alex Munday, U.S. Marshal Marshal Ray Carter, ...</td>\n",
              "    </tr>\n",
              "    <tr>\n",
              "      <th>2</th>\n",
              "      <td>2</td>\n",
              "      <td>2017</td>\n",
              "      <td>Coco</td>\n",
              "      <td>American</td>\n",
              "      <td>In Santa Cecilia, Mexico, Imelda Rivera is the...</td>\n",
              "      <td>8.4</td>\n",
              "      <td>tt2380307</td>\n",
              "      <td>explosiveskull  GoldenBeard Sometimes, I thin...</td>\n",
              "      <td>Julio's great-great-grandmother, Mama Imelda, ...</td>\n",
              "    </tr>\n",
              "    <tr>\n",
              "      <th>3</th>\n",
              "      <td>3</td>\n",
              "      <td>2013</td>\n",
              "      <td>Black Rock</td>\n",
              "      <td>American</td>\n",
              "      <td>Sarah (Kate Bosworth) invites her childhood fr...</td>\n",
              "      <td>4.8</td>\n",
              "      <td>tt1930294</td>\n",
              "      <td>Oh, my God. You, like, threw up back here with...</td>\n",
              "      <td>\"I have so many stories. There's only so long ...</td>\n",
              "    </tr>\n",
              "    <tr>\n",
              "      <th>4</th>\n",
              "      <td>4</td>\n",
              "      <td>2005</td>\n",
              "      <td>Batman Begins</td>\n",
              "      <td>American</td>\n",
              "      <td>As a child, Bruce Wayne falls down into a dry ...</td>\n",
              "      <td>8.2</td>\n",
              "      <td>tt0372784</td>\n",
              "      <td>Rachel, let me see. - Can I see? - Finders kee...</td>\n",
              "      <td>Bruce Wayne wakes up to find himself in the mi...</td>\n",
              "    </tr>\n",
              "  </tbody>\n",
              "</table>\n",
              "</div>\n",
              "      <button class=\"colab-df-convert\" onclick=\"convertToInteractive('df-998c5235-609e-4f55-98fb-5a54c6903c7d')\"\n",
              "              title=\"Convert this dataframe to an interactive table.\"\n",
              "              style=\"display:none;\">\n",
              "        \n",
              "  <svg xmlns=\"http://www.w3.org/2000/svg\" height=\"24px\"viewBox=\"0 0 24 24\"\n",
              "       width=\"24px\">\n",
              "    <path d=\"M0 0h24v24H0V0z\" fill=\"none\"/>\n",
              "    <path d=\"M18.56 5.44l.94 2.06.94-2.06 2.06-.94-2.06-.94-.94-2.06-.94 2.06-2.06.94zm-11 1L8.5 8.5l.94-2.06 2.06-.94-2.06-.94L8.5 2.5l-.94 2.06-2.06.94zm10 10l.94 2.06.94-2.06 2.06-.94-2.06-.94-.94-2.06-.94 2.06-2.06.94z\"/><path d=\"M17.41 7.96l-1.37-1.37c-.4-.4-.92-.59-1.43-.59-.52 0-1.04.2-1.43.59L10.3 9.45l-7.72 7.72c-.78.78-.78 2.05 0 2.83L4 21.41c.39.39.9.59 1.41.59.51 0 1.02-.2 1.41-.59l7.78-7.78 2.81-2.81c.8-.78.8-2.07 0-2.86zM5.41 20L4 18.59l7.72-7.72 1.47 1.35L5.41 20z\"/>\n",
              "  </svg>\n",
              "      </button>\n",
              "      \n",
              "  <style>\n",
              "    .colab-df-container {\n",
              "      display:flex;\n",
              "      flex-wrap:wrap;\n",
              "      gap: 12px;\n",
              "    }\n",
              "\n",
              "    .colab-df-convert {\n",
              "      background-color: #E8F0FE;\n",
              "      border: none;\n",
              "      border-radius: 50%;\n",
              "      cursor: pointer;\n",
              "      display: none;\n",
              "      fill: #1967D2;\n",
              "      height: 32px;\n",
              "      padding: 0 0 0 0;\n",
              "      width: 32px;\n",
              "    }\n",
              "\n",
              "    .colab-df-convert:hover {\n",
              "      background-color: #E2EBFA;\n",
              "      box-shadow: 0px 1px 2px rgba(60, 64, 67, 0.3), 0px 1px 3px 1px rgba(60, 64, 67, 0.15);\n",
              "      fill: #174EA6;\n",
              "    }\n",
              "\n",
              "    [theme=dark] .colab-df-convert {\n",
              "      background-color: #3B4455;\n",
              "      fill: #D2E3FC;\n",
              "    }\n",
              "\n",
              "    [theme=dark] .colab-df-convert:hover {\n",
              "      background-color: #434B5C;\n",
              "      box-shadow: 0px 1px 3px 1px rgba(0, 0, 0, 0.15);\n",
              "      filter: drop-shadow(0px 1px 2px rgba(0, 0, 0, 0.3));\n",
              "      fill: #FFFFFF;\n",
              "    }\n",
              "  </style>\n",
              "\n",
              "      <script>\n",
              "        const buttonEl =\n",
              "          document.querySelector('#df-998c5235-609e-4f55-98fb-5a54c6903c7d button.colab-df-convert');\n",
              "        buttonEl.style.display =\n",
              "          google.colab.kernel.accessAllowed ? 'block' : 'none';\n",
              "\n",
              "        async function convertToInteractive(key) {\n",
              "          const element = document.querySelector('#df-998c5235-609e-4f55-98fb-5a54c6903c7d');\n",
              "          const dataTable =\n",
              "            await google.colab.kernel.invokeFunction('convertToInteractive',\n",
              "                                                     [key], {});\n",
              "          if (!dataTable) return;\n",
              "\n",
              "          const docLinkHtml = 'Like what you see? Visit the ' +\n",
              "            '<a target=\"_blank\" href=https://colab.research.google.com/notebooks/data_table.ipynb>data table notebook</a>'\n",
              "            + ' to learn more about interactive tables.';\n",
              "          element.innerHTML = '';\n",
              "          dataTable['output_type'] = 'display_data';\n",
              "          await google.colab.output.renderOutput(dataTable, element);\n",
              "          const docLink = document.createElement('div');\n",
              "          docLink.innerHTML = docLinkHtml;\n",
              "          element.appendChild(docLink);\n",
              "        }\n",
              "      </script>\n",
              "    </div>\n",
              "  </div>\n",
              "  "
            ]
          },
          "metadata": {},
          "execution_count": 48
        }
      ]
    },
    {
      "cell_type": "code",
      "source": [
        "import numpy\n",
        "for i in range(len(df)):\n",
        "  if df[\"Summary_Subtitle_30_100\"][i] is numpy.nan:\n",
        "    print(i)"
      ],
      "metadata": {
        "colab": {
          "base_uri": "https://localhost:8080/"
        },
        "id": "T2WeJs3GOH7A",
        "outputId": "4b5f3a77-dce5-4594-f349-70c49bcbb8b1"
      },
      "execution_count": null,
      "outputs": [
        {
          "output_type": "stream",
          "name": "stdout",
          "text": [
            "9\n",
            "10\n",
            "11\n",
            "25\n",
            "38\n",
            "41\n",
            "64\n",
            "73\n"
          ]
        }
      ]
    },
    {
      "cell_type": "markdown",
      "source": [],
      "metadata": {
        "id": "yw5Xtr1euK-N"
      }
    },
    {
      "cell_type": "code",
      "source": [
        "print(df[\"Summary_Subtitle_30_100\"][10])"
      ],
      "metadata": {
        "colab": {
          "base_uri": "https://localhost:8080/"
        },
        "id": "okvVv0Ins-q_",
        "outputId": "9bcc694a-e73c-4f4a-d9a8-6307ecca2bc5"
      },
      "execution_count": null,
      "outputs": [
        {
          "output_type": "stream",
          "name": "stdout",
          "text": [
            "nan\n"
          ]
        }
      ]
    },
    {
      "cell_type": "code",
      "source": [
        "file_name = path + \"Summary_Subtitle_30_100_Final\" + str(i) + \".csv\"\n",
        "df.to_csv(file_name, index=False)"
      ],
      "metadata": {
        "id": "IN8wIGchtkaY"
      },
      "execution_count": null,
      "outputs": []
    },
    {
      "cell_type": "code",
      "source": [],
      "metadata": {
        "id": "xiMv6m4kCn1H"
      },
      "execution_count": null,
      "outputs": []
    }
  ]
}